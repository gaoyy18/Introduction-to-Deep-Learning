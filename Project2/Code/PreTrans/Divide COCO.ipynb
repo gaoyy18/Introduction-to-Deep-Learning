{
 "cells": [
  {
   "cell_type": "code",
   "execution_count": 1,
   "id": "61a1dd9e",
   "metadata": {},
   "outputs": [],
   "source": [
    "from __future__ import print_function\n",
    "'''\n",
    "从coco的标注文件里提取一张图片对应的json信息，并保存成新的json文件。\n",
    "'''\n",
    "import matplotlib.pyplot as plt\n",
    "import os, sys, zipfile\n",
    "import urllib.request\n",
    "import shutil\n",
    "import numpy as np\n",
    "import pylab\n",
    "import json\n",
    "from pycocotools.coco import COCO"
   ]
  },
  {
   "cell_type": "code",
   "execution_count": null,
   "id": "8300d018",
   "metadata": {},
   "outputs": [],
   "source": [
    "#创建train.json\n",
    "dataset_path = './train'\n",
    "json_file='./annotations_all.json' #json源文件\n",
    "\n",
    "#导入json原文件\n",
    "coco=COCO(json_file)\n",
    "data=json.load(open(json_file,'r')) \n",
    "\n",
    "#创建新json文件\n",
    "data_2={}   \n",
    "data_2['categories']=data['categories']\n",
    "\n",
    "annotation=[]\n",
    "images = []\n",
    "\n",
    "#读取文件夹下图片名字\n",
    "imagename = [f for f in os.listdir(os.path.join(dataset_path))] \n",
    "print(len(data['images'])) \n",
    "\n",
    "#根据图片数量找到每张图片对应的annotation\n",
    "for name_index in range(0,len(imagename)):\n",
    "    imagename[name_index]=imagename[name_index][0:12]#所有图片文件名均为12位\n",
    "    for ann in data['annotations']:    #根据image_id找到对应的annotation\n",
    "        if ann['image_id']==imagename[name_index]:\n",
    "            annotation.append(ann)\n",
    "\n",
    "data_2['annotations']=annotation\n",
    "data_2['images'] = images\n",
    "print(len(data_2['annotations']))#查看是否创建成功\n",
    "\n",
    "# 保存到新的json\n",
    "json.dump(data_2,open('./annotations_train.json','w'),indent=4)"
   ]
  },
  {
   "cell_type": "code",
   "execution_count": null,
   "id": "c1e1fa77",
   "metadata": {},
   "outputs": [],
   "source": [
    "#创建val.json\n",
    "dataset_path = './val'\n",
    "json_file='./annotations_all.json' #json源文件\n",
    "\n",
    "#导入json原文件\n",
    "coco=COCO(json_file)\n",
    "data=json.load(open(json_file,'r')) \n",
    "\n",
    "#创建新json文件\n",
    "data_2={}   \n",
    "data_2['categories']=data['categories']\n",
    "\n",
    "annotation=[]\n",
    "images = []\n",
    "\n",
    "#读取文件夹下图片名字\n",
    "imagename = [f for f in os.listdir(os.path.join(dataset_path))] \n",
    "print(len(data['images'])) \n",
    "\n",
    "#根据图片数量找到每张图片对应的annotation\n",
    "for name_index in range(0,len(imagename)):\n",
    "    imagename[name_index]=imagename[name_index][0:12]#所有图片文件名均为12位\n",
    "    for ann in data['annotations']:    #根据image_id找到对应的annotation\n",
    "        if ann['image_id']==imagename[name_index]:\n",
    "            annotation.append(ann)\n",
    "\n",
    "data_2['annotations']=annotation\n",
    "data_2['images'] = images\n",
    "print(len(data_2['annotations']))#查看是否创建成功\n",
    "\n",
    "# 保存到新的json\n",
    "json.dump(data_2,open('./annotations_val.json','w'),indent=4)"
   ]
  }
 ],
 "metadata": {
  "kernelspec": {
   "display_name": "Python 3 (ipykernel)",
   "language": "python",
   "name": "python3"
  },
  "language_info": {
   "codemirror_mode": {
    "name": "ipython",
    "version": 3
   },
   "file_extension": ".py",
   "mimetype": "text/x-python",
   "name": "python",
   "nbconvert_exporter": "python",
   "pygments_lexer": "ipython3",
   "version": "3.8.12"
  }
 },
 "nbformat": 4,
 "nbformat_minor": 5
}
