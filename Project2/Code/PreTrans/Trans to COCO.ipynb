{
 "cells": [
  {
   "cell_type": "code",
   "execution_count": 1,
   "id": "b81b7941",
   "metadata": {},
   "outputs": [],
   "source": [
    "import numpy as np\n",
    "import pandas as pd\n",
    "import matplotlib.pyplot as plt\n",
    "from tqdm.notebook import tqdm\n",
    "from pycocotools import mask as maskUtils\n",
    "from joblib import Parallel, delayed\n",
    "import json,itertools"
   ]
  },
  {
   "cell_type": "code",
   "execution_count": 2,
   "id": "57056021",
   "metadata": {},
   "outputs": [],
   "source": [
    "## Based on: https://www.kaggle.com/eigrad/convert-rle-to-bounding-box-x0-y0-x1-y1\n",
    "#rle转为mask\n",
    "def rle_decode(RLE, width, height):\n",
    "    \n",
    "    #转化string为array \n",
    "    inputs = RLE.split()\n",
    "    array = np.fromiter(inputs, dtype = np.uint)\n",
    "    \n",
    "    #转化array形状为(2, N)\n",
    "    array = array.reshape((-1,2)).T\n",
    "    array[0] = array[0] - 1\n",
    "    \n",
    "    #RLE解码\n",
    "    head ,length = array\n",
    "    mask = np.concatenate([np.arange(s, s + l, dtype = np.uint) for s, l in zip(head, length)])\n",
    "\n",
    "    #建立the binary mask,后续接入pycocotools\n",
    "    imagemsk = np.zeros(width * height, dtype = np.uint8)\n",
    "    imagemsk[mask] = 1\n",
    "    imagemsk = imagemsk.reshape((height, width))\n",
    "    imagemsk = np.asfortranarray(imagemsk) \n",
    "    \n",
    "    return imagemsk"
   ]
  },
  {
   "cell_type": "code",
   "execution_count": 3,
   "id": "ddcd9e0c",
   "metadata": {},
   "outputs": [],
   "source": [
    "#将the binary mask转化为uncomposed rle\n",
    "def binary_mask_to_rle(binary_mask):\n",
    "    rle = {'counts': [], 'size': list(binary_mask.shape)}\n",
    "    counts = rle.get('counts')\n",
    "    for i, (value, elements) in enumerate(itertools.groupby(binary_mask.ravel(order='F'))):\n",
    "        if i == 0 and value == 1:\n",
    "            counts.append(0)\n",
    "        counts.append(len(list(elements)))\n",
    "    return rle"
   ]
  },
  {
   "cell_type": "code",
   "execution_count": 4,
   "id": "70950223",
   "metadata": {},
   "outputs": [],
   "source": [
    "## Based on:https://www.kaggle.com/coldfir3/efficient-coco-dataset-generator?scriptVersionId=79100851\n",
    "def annotate(idx, row, cat_ids):\n",
    "        # Binary mask\n",
    "        mask = rle_decode(row['annotation'], row['width'], row['height']) \n",
    "        \n",
    "        # 使用coco重编码mask为RLE\n",
    "        coco_rle = maskUtils.encode(mask) \n",
    "        \n",
    "        # 格式变为utf-8\n",
    "        coco_rle['counts'] = coco_rle['counts'].decode('utf-8') \n",
    "        \n",
    "        # 计算mask面积\n",
    "        coco_area = maskUtils.area(coco_rle).item() \n",
    "        \n",
    "        # 计算mask bbox\n",
    "        coco_bbox = maskUtils.toBbox(coco_rle).astype(int).tolist()\n",
    "\n",
    "        #为采用uncomposed rle，还是用自己的binary_mask_to_rle \n",
    "        enc = binary_mask_to_rle(mask)\n",
    "        \n",
    "        #汇入annotation\n",
    "        annotation = {\n",
    "            'segmentation': enc,\n",
    "            'bbox': coco_bbox,\n",
    "            'area': coco_area,\n",
    "            'image_id':row['id'], \n",
    "            'category_id':cat_ids[row['cell_type']], \n",
    "            'iscrowd':1,  #using compressed RLE\n",
    "            'id':idx\n",
    "        }\n",
    "        return annotation"
   ]
  },
  {
   "cell_type": "code",
   "execution_count": 5,
   "id": "b737806d",
   "metadata": {},
   "outputs": [],
   "source": [
    "#coco json文件生成\n",
    "def coco_structure(transfile, workers = 4):\n",
    "    \n",
    "    ## 创建文件开头\n",
    "    cat_ids = {name:id+1 for id, name in enumerate(transfile.cell_type.unique())}    \n",
    "    cats =[{'name':name, 'id':id} for name,id in cat_ids.items()]\n",
    "    images = [{'id':id, 'width':row.width, 'height':row.height, 'file_name':f'train/{id}.png'} for id,row in transfile.groupby('id').agg('first').iterrows()]\n",
    "    \n",
    "    ## 创建annotations\n",
    "    annotations = Parallel(n_jobs=workers)(delayed(annotate)(idx, row, cat_ids) for idx, row in tqdm(transfile.iterrows(), total = len(transfile)))\n",
    "        \n",
    "    return {'categories':cats, 'images':images, 'annotations':annotations}"
   ]
  },
  {
   "cell_type": "code",
   "execution_count": 6,
   "id": "45ec6a89",
   "metadata": {},
   "outputs": [],
   "source": [
    "#比赛给出的train.csv\n",
    "transfile = pd.read_csv('E:/Desktop/Final/sartorius-cell-instance-segmentation/train.csv')\n",
    "root = coco_structure(transfile)\n",
    "with open('annotations_train.json', 'w', encoding='utf-8') as f:\n",
    "    json.dump(root, f, ensure_ascii=True, indent=4)"
   ]
  },
  {
   "cell_type": "code",
   "execution_count": 7,
   "id": "31497261",
   "metadata": {},
   "outputs": [
    {
     "data": {
      "image/png": "[encoded data removed]",
      "text/plain": [
       "<Figure size 432x288 with 1 Axes>"
      ]
     },
     "metadata": {
      "needs_background": "light"
     },
     "output_type": "display_data"
    }
   ],
   "source": [
    "imr = '0a6ecc5fe78a'\n",
    "i = 0\n",
    "for ids,row in transfile.iterrows():\n",
    "    if row.id ==imr:\n",
    "        rle = transfile.loc[row.name, 'annotation']\n",
    "        dec = rle_decode(rle, 704, 520)\n",
    "        plt.imshow(np.ma.masked_where(dec==0, dec))"
   ]
  },
  {
   "cell_type": "code",
   "execution_count": 8,
   "id": "dbc825f9",
   "metadata": {},
   "outputs": [
    {
     "data": {
      "image/png": "[encoded data removed]",
      "text/plain": [
       "<Figure size 432x288 with 1 Axes>"
      ]
     },
     "metadata": {
      "needs_background": "light"
     },
     "output_type": "display_data"
    }
   ],
   "source": [
    "imr = '0c90b86742b2'\n",
    "i = 0\n",
    "for ids,row in transfile.iterrows():\n",
    "    if row.id ==imr:\n",
    "        rle = transfile.loc[row.name, 'annotation']\n",
    "        dec = rle_decode(rle, 704, 520)\n",
    "        plt.imshow(np.ma.masked_where(dec==0, dec))"
   ]
  },
  {
   "cell_type": "code",
   "execution_count": 9,
   "id": "38739423",
   "metadata": {},
   "outputs": [
    {
     "data": {
      "image/png": "[encoded data removed]",
      "text/plain": [
       "<Figure size 432x288 with 1 Axes>"
      ]
     },
     "metadata": {
      "needs_background": "light"
     },
     "output_type": "display_data"
    }
   ],
   "source": [
    "imr = '0ea6df67cc77'\n",
    "i = 0\n",
    "for ids,row in transfile.iterrows():\n",
    "    if row.id ==imr:\n",
    "        rle = transfile.loc[row.name, 'annotation']\n",
    "        dec = rle_decode(rle, 704, 520)\n",
    "        plt.imshow(np.ma.masked_where(dec==0, dec))"
   ]
  },
  {
   "cell_type": "code",
   "execution_count": 10,
   "id": "8c93696c",
   "metadata": {},
   "outputs": [
    {
     "data": {
      "image/png": "[encoded data removed]",
      "text/plain": [
       "<Figure size 432x288 with 1 Axes>"
      ]
     },
     "metadata": {
      "needs_background": "light"
     },
     "output_type": "display_data"
    }
   ],
   "source": [
    "imr = 'e4632744011e'\n",
    "i = 0\n",
    "for ids,row in transfile.iterrows():\n",
    "    if row.id ==imr:\n",
    "        rle = transfile.loc[row.name, 'annotation']\n",
    "        dec = rle_decode(rle, 704, 520)\n",
    "        plt.imshow(np.ma.masked_where(dec==0, dec))"
   ]
  }
 ],
 "metadata": {
  "kernelspec": {
   "display_name": "Python 3 (ipykernel)",
   "language": "python",
   "name": "python3"
  },
  "language_info": {
   "codemirror_mode": {
    "name": "ipython",
    "version": 3
   },
   "file_extension": ".py",
   "mimetype": "text/x-python",
   "name": "python",
   "nbconvert_exporter": "python",
   "pygments_lexer": "ipython3",
   "version": "3.8.12"
  }
 },
 "nbformat": 4,
 "nbformat_minor": 5
}
