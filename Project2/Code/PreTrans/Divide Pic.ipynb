{
 "cells": [
  {
   "cell_type": "code",
   "execution_count": 1,
   "id": "61a1dd9e",
   "metadata": {},
   "outputs": [],
   "source": [
    "import os\n",
    "import random\n",
    "import shutil"
   ]
  },
  {
   "cell_type": "code",
   "execution_count": 2,
   "id": "6d2a77dc",
   "metadata": {},
   "outputs": [],
   "source": [
    "#将原train文件夹下的图片随机划分到新的val与train文件夹下\n",
    "def get_imlist(path):\n",
    "    return [os.path.join(path, f) for f in os.listdir(path) if f.endswith('.png')]\n",
    "\n",
    "def getData(src_path):\n",
    "    val_dir = './val'  # val集图片\n",
    "    train_dir='./train'# train集图片\n",
    "    img_list = get_imlist(src_path)\n",
    "    random.shuffle(img_list)\n",
    "    le = 121    #4：1划分原数据集\n",
    "    for f in img_list[le:]:\n",
    "        shutil.move(f, train_dir)\n",
    "    for f in img_list[:le]:\n",
    "        shutil.move(f, val_dir)\n"
   ]
  },
  {
   "cell_type": "code",
   "execution_count": 3,
   "id": "c127a0e2",
   "metadata": {},
   "outputs": [],
   "source": [
    "#比赛train文件夹的拷贝\n",
    "getData('E:\\\\Desktop\\\\Final\\\\train')"
   ]
  }
 ],
 "metadata": {
  "kernelspec": {
   "display_name": "Python 3 (ipykernel)",
   "language": "python",
   "name": "python3"
  },
  "language_info": {
   "codemirror_mode": {
    "name": "ipython",
    "version": 3
   },
   "file_extension": ".py",
   "mimetype": "text/x-python",
   "name": "python",
   "nbconvert_exporter": "python",
   "pygments_lexer": "ipython3",
   "version": "3.8.12"
  }
 },
 "nbformat": 4,
 "nbformat_minor": 5
}
