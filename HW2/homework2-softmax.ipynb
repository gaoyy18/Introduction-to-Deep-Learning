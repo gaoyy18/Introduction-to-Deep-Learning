{
 "cells": [
  {
   "cell_type": "markdown",
   "metadata": {},
   "source": [
    "# Homework-2: Softmax for MNIST Classification\n",
    "\n",
    "### In this homework, you need to\n",
    "- ### implement and apply a softmax classifier to perform digits classification."
   ]
  },
  {
   "cell_type": "code",
   "execution_count": 1,
   "metadata": {},
   "outputs": [],
   "source": [
    "import os,sys\n",
    "import numpy as np\n",
    "import matplotlib.pyplot as plt\n",
    "%matplotlib inline"
   ]
  },
  {
   "cell_type": "markdown",
   "metadata": {},
   "source": [
    "## Load MNIST Dataset\n",
    "The **mnist_data_loader.py** is a script to load mnist dataset, which is included in [TensorFlow tutorial](https://github.com/tensorflow/tensorflow/blob/r0.7/tensorflow/examples/tutorials/mnist/input_data.py)."
   ]
  },
  {
   "cell_type": "code",
   "execution_count": 2,
   "metadata": {},
   "outputs": [
    {
     "name": "stdout",
     "output_type": "stream",
     "text": [
      "Extracting ./MNIST_data/train-images-idx3-ubyte.gz\n",
      "Extracting ./MNIST_data/train-labels-idx1-ubyte.gz\n",
      "Extracting ./MNIST_data/t10k-images-idx3-ubyte.gz\n",
      "Extracting ./MNIST_data/t10k-labels-idx1-ubyte.gz\n",
      "\n",
      "Training dataset size:  60000\n",
      "Test dataset size:  10000\n"
     ]
    }
   ],
   "source": [
    "import mnist_data_loader\n",
    "\n",
    "mnist_dataset = mnist_data_loader.read_data_sets(\"./MNIST_data/\", one_hot=True)\n",
    "\n",
    "# training dataset\n",
    "train_set = mnist_dataset.train \n",
    "# test dataset\n",
    "test_set = mnist_dataset.test   \n",
    "\n",
    "train_size = train_set.num_examples\n",
    "test_size = test_set.num_examples\n",
    "print()\n",
    "print('Training dataset size: ', train_size)\n",
    "print('Test dataset size: ', test_size)"
   ]
  },
  {
   "cell_type": "markdown",
   "metadata": {},
   "source": [
    "## Data Example\n",
    "To have a better understand of MNIST dataset, we can visualize some examples in MNIST."
   ]
  },
  {
   "cell_type": "code",
   "execution_count": 3,
   "metadata": {},
   "outputs": [
    {
     "name": "stdout",
     "output_type": "stream",
     "text": [
      "[0. 0. 0. 0. 0. 1. 0. 0. 0. 0.]\n"
     ]
    },
    {
     "data": {
      "text/plain": [
       "<matplotlib.image.AxesImage at 0x21400015d60>"
      ]
     },
     "execution_count": 3,
     "metadata": {},
     "output_type": "execute_result"
    },
    {
     "data": {
      "image/png": "[encoded data removed]",
      "text/plain": [
       "<Figure size 432x288 with 1 Axes>"
      ]
     },
     "metadata": {
      "needs_background": "light"
     },
     "output_type": "display_data"
    }
   ],
   "source": [
    "# You can choose any image in training set to visualize, example_id ∈ [0,60000)\n",
    "example_id = 0 \n",
    "\n",
    "image = train_set.images[example_id] # shape = 784 (28*28)\n",
    "label = train_set.labels[example_id] # shape = 10\n",
    "#print(image)\n",
    "print(label)\n",
    "plt.imshow(np.reshape(image,[28,28]))"
   ]
  },
  {
   "cell_type": "markdown",
   "metadata": {},
   "source": [
    "## Set Hyerparameters\n",
    "You can modify hyerparameters by yourself."
   ]
  },
  {
   "cell_type": "code",
   "execution_count": 109,
   "metadata": {},
   "outputs": [],
   "source": [
    "batch_size = 100\n",
    "max_epoch = 30\n",
    "learning_rate = 5e-3\n",
    "\n",
    "# For regularization\n",
    "lamda = 0"
   ]
  },
  {
   "cell_type": "markdown",
   "metadata": {},
   "source": [
    "### TODO\n",
    "Before executing the following code, you should accomplish **./softmax_classifier.py**."
   ]
  },
  {
   "cell_type": "code",
   "execution_count": 106,
   "metadata": {},
   "outputs": [],
   "source": [
    "from softmax_classifier import softmax_classifier"
   ]
  },
  {
   "cell_type": "markdown",
   "metadata": {},
   "source": [
    "## Train"
   ]
  },
  {
   "cell_type": "code",
   "execution_count": 110,
   "metadata": {
    "scrolled": true
   },
   "outputs": [
    {
     "name": "stdout",
     "output_type": "stream",
     "text": [
      "Epoch [0][30]\t Batch [0][600]\t Training Loss 2.3032\t Accuracy 0.0600\n",
      "Epoch [0][30]\t Batch [100][600]\t Training Loss 1.8545\t Accuracy 0.6900\n",
      "Epoch [0][30]\t Batch [200][600]\t Training Loss 1.5123\t Accuracy 0.8200\n",
      "Epoch [0][30]\t Batch [300][600]\t Training Loss 1.2759\t Accuracy 0.8100\n",
      "Epoch [0][30]\t Batch [400][600]\t Training Loss 1.1963\t Accuracy 0.8000\n",
      "Epoch [0][30]\t Batch [500][600]\t Training Loss 1.0818\t Accuracy 0.7800\n",
      "\n",
      "Epoch [1][30]\t Batch [0][600]\t Training Loss 1.0428\t Accuracy 0.8600\n",
      "Epoch [1][30]\t Batch [100][600]\t Training Loss 0.9212\t Accuracy 0.8300\n",
      "Epoch [1][30]\t Batch [200][600]\t Training Loss 0.9413\t Accuracy 0.8000\n",
      "Epoch [1][30]\t Batch [300][600]\t Training Loss 0.8342\t Accuracy 0.8000\n",
      "Epoch [1][30]\t Batch [400][600]\t Training Loss 0.7829\t Accuracy 0.8100\n",
      "Epoch [1][30]\t Batch [500][600]\t Training Loss 0.7173\t Accuracy 0.8400\n",
      "\n",
      "Epoch [2][30]\t Batch [0][600]\t Training Loss 0.6579\t Accuracy 0.9100\n",
      "Epoch [2][30]\t Batch [100][600]\t Training Loss 0.6699\t Accuracy 0.8600\n",
      "Epoch [2][30]\t Batch [200][600]\t Training Loss 0.8029\t Accuracy 0.8500\n",
      "Epoch [2][30]\t Batch [300][600]\t Training Loss 0.6098\t Accuracy 0.9000\n",
      "Epoch [2][30]\t Batch [400][600]\t Training Loss 0.6303\t Accuracy 0.8700\n",
      "Epoch [2][30]\t Batch [500][600]\t Training Loss 0.9092\t Accuracy 0.7500\n",
      "\n",
      "Epoch [3][30]\t Batch [0][600]\t Training Loss 0.5685\t Accuracy 0.8800\n",
      "Epoch [3][30]\t Batch [100][600]\t Training Loss 0.7392\t Accuracy 0.8200\n",
      "Epoch [3][30]\t Batch [200][600]\t Training Loss 0.5613\t Accuracy 0.8600\n",
      "Epoch [3][30]\t Batch [300][600]\t Training Loss 0.6500\t Accuracy 0.8600\n",
      "Epoch [3][30]\t Batch [400][600]\t Training Loss 0.6596\t Accuracy 0.8500\n",
      "Epoch [3][30]\t Batch [500][600]\t Training Loss 0.6196\t Accuracy 0.8400\n",
      "\n",
      "Epoch [4][30]\t Batch [0][600]\t Training Loss 0.7557\t Accuracy 0.8100\n",
      "Epoch [4][30]\t Batch [100][600]\t Training Loss 0.6250\t Accuracy 0.8600\n",
      "Epoch [4][30]\t Batch [200][600]\t Training Loss 0.5474\t Accuracy 0.8500\n",
      "Epoch [4][30]\t Batch [300][600]\t Training Loss 0.5731\t Accuracy 0.8500\n",
      "Epoch [4][30]\t Batch [400][600]\t Training Loss 0.5251\t Accuracy 0.8600\n",
      "Epoch [4][30]\t Batch [500][600]\t Training Loss 0.6230\t Accuracy 0.8400\n",
      "\n",
      "Epoch [5][30]\t Batch [0][600]\t Training Loss 0.5183\t Accuracy 0.8800\n",
      "Epoch [5][30]\t Batch [100][600]\t Training Loss 0.5178\t Accuracy 0.8600\n",
      "Epoch [5][30]\t Batch [200][600]\t Training Loss 0.4434\t Accuracy 0.9100\n",
      "Epoch [5][30]\t Batch [300][600]\t Training Loss 0.4581\t Accuracy 0.8600\n",
      "Epoch [5][30]\t Batch [400][600]\t Training Loss 0.6374\t Accuracy 0.8100\n",
      "Epoch [5][30]\t Batch [500][600]\t Training Loss 0.4832\t Accuracy 0.8800\n",
      "\n",
      "Epoch [6][30]\t Batch [0][600]\t Training Loss 0.5264\t Accuracy 0.8600\n",
      "Epoch [6][30]\t Batch [100][600]\t Training Loss 0.5052\t Accuracy 0.8600\n",
      "Epoch [6][30]\t Batch [200][600]\t Training Loss 0.4674\t Accuracy 0.8900\n",
      "Epoch [6][30]\t Batch [300][600]\t Training Loss 0.4059\t Accuracy 0.9300\n",
      "Epoch [6][30]\t Batch [400][600]\t Training Loss 0.4965\t Accuracy 0.8700\n",
      "Epoch [6][30]\t Batch [500][600]\t Training Loss 0.3479\t Accuracy 0.9700\n",
      "\n",
      "Epoch [7][30]\t Batch [0][600]\t Training Loss 0.4444\t Accuracy 0.9000\n",
      "Epoch [7][30]\t Batch [100][600]\t Training Loss 0.5099\t Accuracy 0.8400\n",
      "Epoch [7][30]\t Batch [200][600]\t Training Loss 0.4577\t Accuracy 0.8700\n",
      "Epoch [7][30]\t Batch [300][600]\t Training Loss 0.4883\t Accuracy 0.8600\n",
      "Epoch [7][30]\t Batch [400][600]\t Training Loss 0.5747\t Accuracy 0.8400\n",
      "Epoch [7][30]\t Batch [500][600]\t Training Loss 0.4992\t Accuracy 0.8700\n",
      "\n",
      "Epoch [8][30]\t Batch [0][600]\t Training Loss 0.4408\t Accuracy 0.9000\n",
      "Epoch [8][30]\t Batch [100][600]\t Training Loss 0.4582\t Accuracy 0.8700\n",
      "Epoch [8][30]\t Batch [200][600]\t Training Loss 0.5056\t Accuracy 0.8600\n",
      "Epoch [8][30]\t Batch [300][600]\t Training Loss 0.5273\t Accuracy 0.8800\n",
      "Epoch [8][30]\t Batch [400][600]\t Training Loss 0.4302\t Accuracy 0.8900\n",
      "Epoch [8][30]\t Batch [500][600]\t Training Loss 0.5476\t Accuracy 0.8300\n",
      "\n",
      "Epoch [9][30]\t Batch [0][600]\t Training Loss 0.7111\t Accuracy 0.8000\n",
      "Epoch [9][30]\t Batch [100][600]\t Training Loss 0.4156\t Accuracy 0.8900\n",
      "Epoch [9][30]\t Batch [200][600]\t Training Loss 0.5637\t Accuracy 0.8600\n",
      "Epoch [9][30]\t Batch [300][600]\t Training Loss 0.5894\t Accuracy 0.8100\n",
      "Epoch [9][30]\t Batch [400][600]\t Training Loss 0.6160\t Accuracy 0.8500\n",
      "Epoch [9][30]\t Batch [500][600]\t Training Loss 0.4095\t Accuracy 0.8900\n",
      "\n",
      "Epoch [10][30]\t Batch [0][600]\t Training Loss 0.4043\t Accuracy 0.9100\n",
      "Epoch [10][30]\t Batch [100][600]\t Training Loss 0.4134\t Accuracy 0.8800\n",
      "Epoch [10][30]\t Batch [200][600]\t Training Loss 0.3727\t Accuracy 0.9300\n",
      "Epoch [10][30]\t Batch [300][600]\t Training Loss 0.3959\t Accuracy 0.9200\n",
      "Epoch [10][30]\t Batch [400][600]\t Training Loss 0.4577\t Accuracy 0.8800\n",
      "Epoch [10][30]\t Batch [500][600]\t Training Loss 0.4454\t Accuracy 0.8700\n",
      "\n",
      "Epoch [11][30]\t Batch [0][600]\t Training Loss 0.3787\t Accuracy 0.9300\n",
      "Epoch [11][30]\t Batch [100][600]\t Training Loss 0.2568\t Accuracy 0.9700\n",
      "Epoch [11][30]\t Batch [200][600]\t Training Loss 0.3823\t Accuracy 0.9200\n",
      "Epoch [11][30]\t Batch [300][600]\t Training Loss 0.4125\t Accuracy 0.9000\n",
      "Epoch [11][30]\t Batch [400][600]\t Training Loss 0.3475\t Accuracy 0.9300\n",
      "Epoch [11][30]\t Batch [500][600]\t Training Loss 0.4086\t Accuracy 0.9000\n",
      "\n",
      "Epoch [12][30]\t Batch [0][600]\t Training Loss 0.4168\t Accuracy 0.8800\n",
      "Epoch [12][30]\t Batch [100][600]\t Training Loss 0.4474\t Accuracy 0.8900\n",
      "Epoch [12][30]\t Batch [200][600]\t Training Loss 0.3993\t Accuracy 0.8600\n",
      "Epoch [12][30]\t Batch [300][600]\t Training Loss 0.4470\t Accuracy 0.8800\n",
      "Epoch [12][30]\t Batch [400][600]\t Training Loss 0.4733\t Accuracy 0.8600\n",
      "Epoch [12][30]\t Batch [500][600]\t Training Loss 0.3455\t Accuracy 0.9100\n",
      "\n",
      "Epoch [13][30]\t Batch [0][600]\t Training Loss 0.3536\t Accuracy 0.9000\n",
      "Epoch [13][30]\t Batch [100][600]\t Training Loss 0.3697\t Accuracy 0.8900\n",
      "Epoch [13][30]\t Batch [200][600]\t Training Loss 0.4320\t Accuracy 0.8800\n",
      "Epoch [13][30]\t Batch [300][600]\t Training Loss 0.4570\t Accuracy 0.8400\n",
      "Epoch [13][30]\t Batch [400][600]\t Training Loss 0.3718\t Accuracy 0.9000\n",
      "Epoch [13][30]\t Batch [500][600]\t Training Loss 0.4258\t Accuracy 0.9100\n",
      "\n",
      "Epoch [14][30]\t Batch [0][600]\t Training Loss 0.4450\t Accuracy 0.8700\n",
      "Epoch [14][30]\t Batch [100][600]\t Training Loss 0.4841\t Accuracy 0.8600\n",
      "Epoch [14][30]\t Batch [200][600]\t Training Loss 0.4522\t Accuracy 0.8800\n",
      "Epoch [14][30]\t Batch [300][600]\t Training Loss 0.3980\t Accuracy 0.9200\n",
      "Epoch [14][30]\t Batch [400][600]\t Training Loss 0.3793\t Accuracy 0.8800\n",
      "Epoch [14][30]\t Batch [500][600]\t Training Loss 0.5201\t Accuracy 0.8400\n",
      "\n",
      "Epoch [15][30]\t Batch [0][600]\t Training Loss 0.3653\t Accuracy 0.8900\n",
      "Epoch [15][30]\t Batch [100][600]\t Training Loss 0.3664\t Accuracy 0.8900\n",
      "Epoch [15][30]\t Batch [200][600]\t Training Loss 0.6321\t Accuracy 0.8300\n",
      "Epoch [15][30]\t Batch [300][600]\t Training Loss 0.4276\t Accuracy 0.8600\n",
      "Epoch [15][30]\t Batch [400][600]\t Training Loss 0.4091\t Accuracy 0.8500\n",
      "Epoch [15][30]\t Batch [500][600]\t Training Loss 0.3405\t Accuracy 0.8800\n",
      "\n",
      "Epoch [16][30]\t Batch [0][600]\t Training Loss 0.3155\t Accuracy 0.9100\n",
      "Epoch [16][30]\t Batch [100][600]\t Training Loss 0.3627\t Accuracy 0.9000\n",
      "Epoch [16][30]\t Batch [200][600]\t Training Loss 0.4266\t Accuracy 0.8900\n",
      "Epoch [16][30]\t Batch [300][600]\t Training Loss 0.3678\t Accuracy 0.9000\n",
      "Epoch [16][30]\t Batch [400][600]\t Training Loss 0.2108\t Accuracy 0.9800\n",
      "Epoch [16][30]\t Batch [500][600]\t Training Loss 0.2450\t Accuracy 0.9700\n",
      "\n",
      "Epoch [17][30]\t Batch [0][600]\t Training Loss 0.3717\t Accuracy 0.9100\n",
      "Epoch [17][30]\t Batch [100][600]\t Training Loss 0.3323\t Accuracy 0.9400\n",
      "Epoch [17][30]\t Batch [200][600]\t Training Loss 0.3422\t Accuracy 0.8900\n",
      "Epoch [17][30]\t Batch [300][600]\t Training Loss 0.3814\t Accuracy 0.8900\n",
      "Epoch [17][30]\t Batch [400][600]\t Training Loss 0.3916\t Accuracy 0.8900\n",
      "Epoch [17][30]\t Batch [500][600]\t Training Loss 0.3396\t Accuracy 0.9500\n",
      "\n",
      "Epoch [18][30]\t Batch [0][600]\t Training Loss 0.2658\t Accuracy 0.9100\n",
      "Epoch [18][30]\t Batch [100][600]\t Training Loss 0.3213\t Accuracy 0.9200\n",
      "Epoch [18][30]\t Batch [200][600]\t Training Loss 0.4276\t Accuracy 0.9000\n",
      "Epoch [18][30]\t Batch [300][600]\t Training Loss 0.3653\t Accuracy 0.8900\n",
      "Epoch [18][30]\t Batch [400][600]\t Training Loss 0.4052\t Accuracy 0.8900\n",
      "Epoch [18][30]\t Batch [500][600]\t Training Loss 0.3332\t Accuracy 0.9000\n",
      "\n",
      "Epoch [19][30]\t Batch [0][600]\t Training Loss 0.3507\t Accuracy 0.8900\n",
      "Epoch [19][30]\t Batch [100][600]\t Training Loss 0.4128\t Accuracy 0.8700\n",
      "Epoch [19][30]\t Batch [200][600]\t Training Loss 0.2506\t Accuracy 0.9500\n"
     ]
    },
    {
     "name": "stdout",
     "output_type": "stream",
     "text": [
      "Epoch [19][30]\t Batch [300][600]\t Training Loss 0.3975\t Accuracy 0.8900\n",
      "Epoch [19][30]\t Batch [400][600]\t Training Loss 0.3460\t Accuracy 0.9000\n",
      "Epoch [19][30]\t Batch [500][600]\t Training Loss 0.4540\t Accuracy 0.8500\n",
      "\n",
      "Epoch [20][30]\t Batch [0][600]\t Training Loss 0.3433\t Accuracy 0.9000\n",
      "Epoch [20][30]\t Batch [100][600]\t Training Loss 0.3611\t Accuracy 0.9200\n",
      "Epoch [20][30]\t Batch [200][600]\t Training Loss 0.3639\t Accuracy 0.8900\n",
      "Epoch [20][30]\t Batch [300][600]\t Training Loss 0.3726\t Accuracy 0.9200\n",
      "Epoch [20][30]\t Batch [400][600]\t Training Loss 0.3888\t Accuracy 0.8800\n",
      "Epoch [20][30]\t Batch [500][600]\t Training Loss 0.4816\t Accuracy 0.8300\n",
      "\n",
      "Epoch [21][30]\t Batch [0][600]\t Training Loss 0.3074\t Accuracy 0.9300\n",
      "Epoch [21][30]\t Batch [100][600]\t Training Loss 0.4211\t Accuracy 0.8900\n",
      "Epoch [21][30]\t Batch [200][600]\t Training Loss 0.2519\t Accuracy 0.9200\n",
      "Epoch [21][30]\t Batch [300][600]\t Training Loss 0.2863\t Accuracy 0.9300\n",
      "Epoch [21][30]\t Batch [400][600]\t Training Loss 0.3230\t Accuracy 0.9200\n",
      "Epoch [21][30]\t Batch [500][600]\t Training Loss 0.3442\t Accuracy 0.8900\n",
      "\n",
      "Epoch [22][30]\t Batch [0][600]\t Training Loss 0.2751\t Accuracy 0.9300\n",
      "Epoch [22][30]\t Batch [100][600]\t Training Loss 0.3434\t Accuracy 0.9200\n",
      "Epoch [22][30]\t Batch [200][600]\t Training Loss 0.2674\t Accuracy 0.9400\n",
      "Epoch [22][30]\t Batch [300][600]\t Training Loss 0.4604\t Accuracy 0.8500\n",
      "Epoch [22][30]\t Batch [400][600]\t Training Loss 0.2661\t Accuracy 0.9300\n",
      "Epoch [22][30]\t Batch [500][600]\t Training Loss 0.3430\t Accuracy 0.8500\n",
      "\n",
      "Epoch [23][30]\t Batch [0][600]\t Training Loss 0.3989\t Accuracy 0.8700\n",
      "Epoch [23][30]\t Batch [100][600]\t Training Loss 0.4839\t Accuracy 0.9000\n",
      "Epoch [23][30]\t Batch [200][600]\t Training Loss 0.3091\t Accuracy 0.9100\n",
      "Epoch [23][30]\t Batch [300][600]\t Training Loss 0.3946\t Accuracy 0.8900\n",
      "Epoch [23][30]\t Batch [400][600]\t Training Loss 0.4294\t Accuracy 0.8600\n",
      "Epoch [23][30]\t Batch [500][600]\t Training Loss 0.4868\t Accuracy 0.8600\n",
      "\n",
      "Epoch [24][30]\t Batch [0][600]\t Training Loss 0.3875\t Accuracy 0.8700\n",
      "Epoch [24][30]\t Batch [100][600]\t Training Loss 0.3197\t Accuracy 0.9300\n",
      "Epoch [24][30]\t Batch [200][600]\t Training Loss 0.3589\t Accuracy 0.9000\n",
      "Epoch [24][30]\t Batch [300][600]\t Training Loss 0.5289\t Accuracy 0.8200\n",
      "Epoch [24][30]\t Batch [400][600]\t Training Loss 0.5185\t Accuracy 0.8300\n",
      "Epoch [24][30]\t Batch [500][600]\t Training Loss 0.3152\t Accuracy 0.9100\n",
      "\n",
      "Epoch [25][30]\t Batch [0][600]\t Training Loss 0.6406\t Accuracy 0.8100\n",
      "Epoch [25][30]\t Batch [100][600]\t Training Loss 0.2490\t Accuracy 0.9500\n",
      "Epoch [25][30]\t Batch [200][600]\t Training Loss 0.3828\t Accuracy 0.9000\n",
      "Epoch [25][30]\t Batch [300][600]\t Training Loss 0.3188\t Accuracy 0.9000\n",
      "Epoch [25][30]\t Batch [400][600]\t Training Loss 0.4364\t Accuracy 0.8500\n",
      "Epoch [25][30]\t Batch [500][600]\t Training Loss 0.3420\t Accuracy 0.8900\n",
      "\n",
      "Epoch [26][30]\t Batch [0][600]\t Training Loss 0.4232\t Accuracy 0.8800\n",
      "Epoch [26][30]\t Batch [100][600]\t Training Loss 0.4119\t Accuracy 0.8800\n",
      "Epoch [26][30]\t Batch [200][600]\t Training Loss 0.3306\t Accuracy 0.9100\n",
      "Epoch [26][30]\t Batch [300][600]\t Training Loss 0.4883\t Accuracy 0.8600\n",
      "Epoch [26][30]\t Batch [400][600]\t Training Loss 0.1847\t Accuracy 0.9600\n",
      "Epoch [26][30]\t Batch [500][600]\t Training Loss 0.3519\t Accuracy 0.9100\n",
      "\n",
      "Epoch [27][30]\t Batch [0][600]\t Training Loss 0.3349\t Accuracy 0.8800\n",
      "Epoch [27][30]\t Batch [100][600]\t Training Loss 0.4666\t Accuracy 0.8200\n",
      "Epoch [27][30]\t Batch [200][600]\t Training Loss 0.2745\t Accuracy 0.9100\n",
      "Epoch [27][30]\t Batch [300][600]\t Training Loss 0.3511\t Accuracy 0.8900\n",
      "Epoch [27][30]\t Batch [400][600]\t Training Loss 0.3703\t Accuracy 0.8800\n",
      "Epoch [27][30]\t Batch [500][600]\t Training Loss 0.4154\t Accuracy 0.8900\n",
      "\n",
      "Epoch [28][30]\t Batch [0][600]\t Training Loss 0.3363\t Accuracy 0.8800\n",
      "Epoch [28][30]\t Batch [100][600]\t Training Loss 0.3605\t Accuracy 0.9100\n",
      "Epoch [28][30]\t Batch [200][600]\t Training Loss 0.3078\t Accuracy 0.8800\n",
      "Epoch [28][30]\t Batch [300][600]\t Training Loss 0.4998\t Accuracy 0.8400\n",
      "Epoch [28][30]\t Batch [400][600]\t Training Loss 0.2440\t Accuracy 0.9500\n",
      "Epoch [28][30]\t Batch [500][600]\t Training Loss 0.3962\t Accuracy 0.8800\n",
      "\n",
      "Epoch [29][30]\t Batch [0][600]\t Training Loss 0.4599\t Accuracy 0.8700\n",
      "Epoch [29][30]\t Batch [100][600]\t Training Loss 0.4492\t Accuracy 0.8300\n",
      "Epoch [29][30]\t Batch [200][600]\t Training Loss 0.3434\t Accuracy 0.9300\n",
      "Epoch [29][30]\t Batch [300][600]\t Training Loss 0.3469\t Accuracy 0.8800\n",
      "Epoch [29][30]\t Batch [400][600]\t Training Loss 0.3876\t Accuracy 0.8600\n",
      "Epoch [29][30]\t Batch [500][600]\t Training Loss 0.2868\t Accuracy 0.9300\n",
      "\n"
     ]
    }
   ],
   "source": [
    "# Weight Initialization\n",
    "W = np.random.randn(28*28, 10) * 0.001\n",
    "\n",
    "loss_set = []\n",
    "accu_set = []\n",
    "disp_freq = 100\n",
    "\n",
    "# Training process\n",
    "for epoch in range(0, max_epoch):\n",
    "    iter_per_batch = train_size // batch_size\n",
    "    for batch_id in range(0, iter_per_batch):\n",
    "        batch = train_set.next_batch(batch_size) # get data of next batch\n",
    "        input, label = batch\n",
    "        \n",
    "        # softmax_classifier\n",
    "        loss, gradient, prediction = softmax_classifier(W, input , label, lamda)\n",
    "        \n",
    "        # Calculate accuracy\n",
    "        label = np.argmax(label, axis=1) # scalar representation\n",
    "        accuracy = sum(prediction == label) / float(len(label))\n",
    "        \n",
    "        loss_set.append(loss)\n",
    "        accu_set.append(accuracy)\n",
    "        \n",
    "        # Update weights\n",
    "        W = W - (learning_rate * gradient)\n",
    "        if batch_id % disp_freq == 0:\n",
    "            print(\"Epoch [{}][{}]\\t Batch [{}][{}]\\t Training Loss {:.4f}\\t Accuracy {:.4f}\".format(\n",
    "                epoch, max_epoch, batch_id, iter_per_batch, \n",
    "                loss, accuracy))\n",
    "    print()"
   ]
  },
  {
   "cell_type": "markdown",
   "metadata": {},
   "source": [
    "## Test"
   ]
  },
  {
   "cell_type": "code",
   "execution_count": 111,
   "metadata": {
    "scrolled": true
   },
   "outputs": [
    {
     "name": "stdout",
     "output_type": "stream",
     "text": [
      "Test Accuracy:  0.9072\n"
     ]
    }
   ],
   "source": [
    "correct = 0\n",
    "iter_per_batch = test_size // batch_size\n",
    "\n",
    "# Test process\n",
    "for batch_id in range(0, iter_per_batch):\n",
    "    batch = test_set.next_batch(batch_size)\n",
    "    data, label = batch\n",
    "    \n",
    "    # We only need prediction results in testing\n",
    "    _,_, prediction = softmax_classifier(W, data , label, lamda)\n",
    "    label = np.argmax(label, axis=1)\n",
    "    \n",
    "    correct += sum(prediction == label)\n",
    "    \n",
    "accuracy = correct * 1.0 / test_size\n",
    "print('Test Accuracy: ', accuracy)"
   ]
  },
  {
   "cell_type": "markdown",
   "metadata": {},
   "source": [
    "## Plot"
   ]
  },
  {
   "cell_type": "code",
   "execution_count": 112,
   "metadata": {
    "scrolled": false
   },
   "outputs": [
    {
     "data": {
      "text/plain": [
       "Text(0, 0.5, 'accuracy')"
      ]
     },
     "execution_count": 112,
     "metadata": {},
     "output_type": "execute_result"
    },
    {
     "data": {
      "image/png": "[encoded data removed]",
      "text/plain": [
       "<Figure size 432x288 with 1 Axes>"
      ]
     },
     "metadata": {
      "needs_background": "light"
     },
     "output_type": "display_data"
    },
    {
     "data": {
      "image/png": "[encoded data removed]",
      "text/plain": [
       "<Figure size 432x288 with 1 Axes>"
      ]
     },
     "metadata": {
      "needs_background": "light"
     },
     "output_type": "display_data"
    }
   ],
   "source": [
    "# training loss curve\n",
    "plt.figure()\n",
    "plt.plot(loss_set, 'b--')\n",
    "plt.xlabel('iteration')\n",
    "plt.ylabel('loss')\n",
    "# training accuracy curve\n",
    "plt.figure()\n",
    "plt.plot(accu_set, 'r--')\n",
    "plt.xlabel('iteration')\n",
    "plt.ylabel('accuracy')"
   ]
  },
  {
   "cell_type": "markdown",
   "metadata": {},
   "source": [
    "### You have finished homework2, congratulations!"
   ]
  }
 ],
 "metadata": {
  "kernelspec": {
   "display_name": "Python 3 (ipykernel)",
   "language": "python",
   "name": "python3"
  },
  "language_info": {
   "codemirror_mode": {
    "name": "ipython",
    "version": 3
   },
   "file_extension": ".py",
   "mimetype": "text/x-python",
   "name": "python",
   "nbconvert_exporter": "python",
   "pygments_lexer": "ipython3",
   "version": "3.8.11"
  }
 },
 "nbformat": 4,
 "nbformat_minor": 2
}
