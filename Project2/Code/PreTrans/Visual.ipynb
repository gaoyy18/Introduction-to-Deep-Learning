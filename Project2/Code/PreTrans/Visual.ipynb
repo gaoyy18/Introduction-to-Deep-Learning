{
 "cells": [
  {
   "cell_type": "code",
   "execution_count": null,
   "id": "bdc2512b",
   "metadata": {},
   "outputs": [],
   "source": [
    "import numpy as np\n",
    "import pandas as pd\n",
    "import matplotlib.pyplot as plt\n",
    "from tqdm.notebook import tqdm\n",
    "from pycocotools import mask as maskUtils\n",
    "from joblib import Parallel, delayed\n",
    "import json,itertools"
   ]
  },
  {
   "cell_type": "code",
   "execution_count": null,
   "id": "b17c473e",
   "metadata": {},
   "outputs": [],
   "source": [
    "#比赛所用文件路径\n",
    "transfile = pd.read_csv('E:/Desktop/Final/sartorius-cell-instance-segmentation/train.csv')\n",
    "TRAIN_PATH = '../input/sartorius-cell-instance-segmentation/test/'"
   ]
  },
  {
   "cell_type": "code",
   "execution_count": null,
   "id": "0579a63f",
   "metadata": {},
   "outputs": [],
   "source": [
    "#待查看图片名\n",
    "imr = 'ffdb3cc02eef'\n",
    "path = TEST_PATH + imr\n",
    "img = cv2.imread(path + '.png')\n",
    "i = 0\n",
    "_,axs = plt.subplots(2,2,figsize=(40,15 * 2))\n",
    "axs[0][0].imshow(img)\n",
    "for ids,row in transfile.iterrows():\n",
    "    if row.id ==imr:\n",
    "        rle = transfile.loc[row.name, 'annotation']\n",
    "        dec = rle_decode(rle, 704, 520)\n",
    "        axs[0][1].imshow(np.ma.masked_where(dec==0, dec))"
   ]
  }
 ],
 "metadata": {
  "kernelspec": {
   "display_name": "Python 3 (ipykernel)",
   "language": "python",
   "name": "python3"
  },
  "language_info": {
   "codemirror_mode": {
    "name": "ipython",
    "version": 3
   },
   "file_extension": ".py",
   "mimetype": "text/x-python",
   "name": "python",
   "nbconvert_exporter": "python",
   "pygments_lexer": "ipython3",
   "version": "3.8.12"
  }
 },
 "nbformat": 4,
 "nbformat_minor": 5
}
